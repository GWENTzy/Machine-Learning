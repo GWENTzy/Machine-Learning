{
 "cells": [
  {
   "cell_type": "markdown",
   "id": "601282d8",
   "metadata": {},
   "source": [
    "### Gerry William Nanlohy / 2440018854 / LB01 / Assignment 09"
   ]
  },
  {
   "cell_type": "markdown",
   "id": "e11f7ed5",
   "metadata": {},
   "source": [
    "##### Importing Data from Various Sources"
   ]
  },
  {
   "cell_type": "code",
   "execution_count": 1,
   "id": "66e22431",
   "metadata": {},
   "outputs": [],
   "source": [
    "import pandas as pd\n",
    "import numpy as np\n",
    "import matplotlib.pyplot as plt\n",
    "import seaborn as sns"
   ]
  },
  {
   "cell_type": "markdown",
   "id": "47bc9da2",
   "metadata": {},
   "source": [
    "##### Reading Excel Files"
   ]
  },
  {
   "cell_type": "code",
   "execution_count": 2,
   "id": "dde6cb10",
   "metadata": {},
   "outputs": [
    {
     "data": {
      "text/html": [
       "<div>\n",
       "<style scoped>\n",
       "    .dataframe tbody tr th:only-of-type {\n",
       "        vertical-align: middle;\n",
       "    }\n",
       "\n",
       "    .dataframe tbody tr th {\n",
       "        vertical-align: top;\n",
       "    }\n",
       "\n",
       "    .dataframe thead th {\n",
       "        text-align: right;\n",
       "    }\n",
       "</style>\n",
       "<table border=\"1\" class=\"dataframe\">\n",
       "  <thead>\n",
       "    <tr style=\"text-align: right;\">\n",
       "      <th></th>\n",
       "      <th>Age</th>\n",
       "      <th>EstimatedSalary</th>\n",
       "      <th>Purchased</th>\n",
       "    </tr>\n",
       "  </thead>\n",
       "  <tbody>\n",
       "    <tr>\n",
       "      <th>0</th>\n",
       "      <td>19</td>\n",
       "      <td>19000</td>\n",
       "      <td>0</td>\n",
       "    </tr>\n",
       "    <tr>\n",
       "      <th>1</th>\n",
       "      <td>35</td>\n",
       "      <td>20000</td>\n",
       "      <td>0</td>\n",
       "    </tr>\n",
       "    <tr>\n",
       "      <th>2</th>\n",
       "      <td>26</td>\n",
       "      <td>43000</td>\n",
       "      <td>0</td>\n",
       "    </tr>\n",
       "    <tr>\n",
       "      <th>3</th>\n",
       "      <td>27</td>\n",
       "      <td>57000</td>\n",
       "      <td>0</td>\n",
       "    </tr>\n",
       "    <tr>\n",
       "      <th>4</th>\n",
       "      <td>19</td>\n",
       "      <td>76000</td>\n",
       "      <td>0</td>\n",
       "    </tr>\n",
       "  </tbody>\n",
       "</table>\n",
       "</div>"
      ],
      "text/plain": [
       "   Age  EstimatedSalary  Purchased\n",
       "0   19            19000          0\n",
       "1   35            20000          0\n",
       "2   26            43000          0\n",
       "3   27            57000          0\n",
       "4   19            76000          0"
      ]
     },
     "execution_count": 2,
     "metadata": {},
     "output_type": "execute_result"
    }
   ],
   "source": [
    "dataset = pd.read_csv('Social_Network_Ads.csv')\n",
    "dataset.head()"
   ]
  },
  {
   "cell_type": "code",
   "execution_count": 3,
   "id": "c2a4c570",
   "metadata": {},
   "outputs": [
    {
     "data": {
      "text/plain": [
       "(400, 3)"
      ]
     },
     "execution_count": 3,
     "metadata": {},
     "output_type": "execute_result"
    }
   ],
   "source": [
    "dataset.shape"
   ]
  },
  {
   "cell_type": "markdown",
   "id": "640bbfd9",
   "metadata": {},
   "source": [
    "##### Data Reading"
   ]
  },
  {
   "cell_type": "code",
   "execution_count": 4,
   "id": "735d43a1",
   "metadata": {},
   "outputs": [
    {
     "data": {
      "text/html": [
       "<div>\n",
       "<style scoped>\n",
       "    .dataframe tbody tr th:only-of-type {\n",
       "        vertical-align: middle;\n",
       "    }\n",
       "\n",
       "    .dataframe tbody tr th {\n",
       "        vertical-align: top;\n",
       "    }\n",
       "\n",
       "    .dataframe thead th {\n",
       "        text-align: right;\n",
       "    }\n",
       "</style>\n",
       "<table border=\"1\" class=\"dataframe\">\n",
       "  <thead>\n",
       "    <tr style=\"text-align: right;\">\n",
       "      <th></th>\n",
       "      <th>Age</th>\n",
       "      <th>EstimatedSalary</th>\n",
       "      <th>Purchased</th>\n",
       "    </tr>\n",
       "  </thead>\n",
       "  <tbody>\n",
       "    <tr>\n",
       "      <th>count</th>\n",
       "      <td>400.000000</td>\n",
       "      <td>400.000000</td>\n",
       "      <td>400.000000</td>\n",
       "    </tr>\n",
       "    <tr>\n",
       "      <th>mean</th>\n",
       "      <td>37.655000</td>\n",
       "      <td>69742.500000</td>\n",
       "      <td>0.357500</td>\n",
       "    </tr>\n",
       "    <tr>\n",
       "      <th>std</th>\n",
       "      <td>10.482877</td>\n",
       "      <td>34096.960282</td>\n",
       "      <td>0.479864</td>\n",
       "    </tr>\n",
       "    <tr>\n",
       "      <th>min</th>\n",
       "      <td>18.000000</td>\n",
       "      <td>15000.000000</td>\n",
       "      <td>0.000000</td>\n",
       "    </tr>\n",
       "    <tr>\n",
       "      <th>25%</th>\n",
       "      <td>29.750000</td>\n",
       "      <td>43000.000000</td>\n",
       "      <td>0.000000</td>\n",
       "    </tr>\n",
       "    <tr>\n",
       "      <th>50%</th>\n",
       "      <td>37.000000</td>\n",
       "      <td>70000.000000</td>\n",
       "      <td>0.000000</td>\n",
       "    </tr>\n",
       "    <tr>\n",
       "      <th>75%</th>\n",
       "      <td>46.000000</td>\n",
       "      <td>88000.000000</td>\n",
       "      <td>1.000000</td>\n",
       "    </tr>\n",
       "    <tr>\n",
       "      <th>max</th>\n",
       "      <td>60.000000</td>\n",
       "      <td>150000.000000</td>\n",
       "      <td>1.000000</td>\n",
       "    </tr>\n",
       "  </tbody>\n",
       "</table>\n",
       "</div>"
      ],
      "text/plain": [
       "              Age  EstimatedSalary   Purchased\n",
       "count  400.000000       400.000000  400.000000\n",
       "mean    37.655000     69742.500000    0.357500\n",
       "std     10.482877     34096.960282    0.479864\n",
       "min     18.000000     15000.000000    0.000000\n",
       "25%     29.750000     43000.000000    0.000000\n",
       "50%     37.000000     70000.000000    0.000000\n",
       "75%     46.000000     88000.000000    1.000000\n",
       "max     60.000000    150000.000000    1.000000"
      ]
     },
     "execution_count": 4,
     "metadata": {},
     "output_type": "execute_result"
    }
   ],
   "source": [
    "dataset.describe()"
   ]
  },
  {
   "cell_type": "code",
   "execution_count": 5,
   "id": "40038aec",
   "metadata": {},
   "outputs": [
    {
     "name": "stdout",
     "output_type": "stream",
     "text": [
      "     Age  EstimatedSalary  Purchased\n",
      "0     19            19000          0\n",
      "1     35            20000          0\n",
      "2     26            43000          0\n",
      "3     27            57000          0\n",
      "4     19            76000          0\n",
      "..   ...              ...        ...\n",
      "395   46            41000          1\n",
      "396   51            23000          1\n",
      "397   50            20000          1\n",
      "398   36            33000          0\n",
      "399   49            36000          1\n",
      "\n",
      "[400 rows x 3 columns]\n"
     ]
    }
   ],
   "source": [
    "print(dataset)"
   ]
  },
  {
   "cell_type": "code",
   "execution_count": 6,
   "id": "18dec3a4",
   "metadata": {},
   "outputs": [
    {
     "name": "stdout",
     "output_type": "stream",
     "text": [
      "<class 'pandas.core.frame.DataFrame'>\n",
      "RangeIndex: 400 entries, 0 to 399\n",
      "Data columns (total 3 columns):\n",
      " #   Column           Non-Null Count  Dtype\n",
      "---  ------           --------------  -----\n",
      " 0   Age              400 non-null    int64\n",
      " 1   EstimatedSalary  400 non-null    int64\n",
      " 2   Purchased        400 non-null    int64\n",
      "dtypes: int64(3)\n",
      "memory usage: 9.5 KB\n"
     ]
    }
   ],
   "source": [
    "dataset.info()"
   ]
  },
  {
   "cell_type": "code",
   "execution_count": 7,
   "id": "af1135e1",
   "metadata": {},
   "outputs": [
    {
     "data": {
      "text/plain": [
       "Age                int64\n",
       "EstimatedSalary    int64\n",
       "Purchased          int64\n",
       "dtype: object"
      ]
     },
     "execution_count": 7,
     "metadata": {},
     "output_type": "execute_result"
    }
   ],
   "source": [
    "dataset.dtypes"
   ]
  },
  {
   "cell_type": "code",
   "execution_count": 8,
   "id": "acf0e7fd",
   "metadata": {},
   "outputs": [
    {
     "data": {
      "text/plain": [
       "Age                0\n",
       "EstimatedSalary    0\n",
       "Purchased          0\n",
       "dtype: int64"
      ]
     },
     "execution_count": 8,
     "metadata": {},
     "output_type": "execute_result"
    }
   ],
   "source": [
    "dataset.isnull().sum()"
   ]
  },
  {
   "cell_type": "code",
   "execution_count": 9,
   "id": "3c6941dc",
   "metadata": {},
   "outputs": [
    {
     "data": {
      "text/plain": [
       "Index(['Age', 'EstimatedSalary', 'Purchased'], dtype='object')"
      ]
     },
     "execution_count": 9,
     "metadata": {},
     "output_type": "execute_result"
    }
   ],
   "source": [
    "dataset.columns"
   ]
  },
  {
   "cell_type": "code",
   "execution_count": 10,
   "id": "5760c1c3",
   "metadata": {},
   "outputs": [
    {
     "data": {
      "text/plain": [
       "array([19, 35, 26, 27, 32, 25, 20, 18, 29, 47, 45, 46, 48, 49, 31, 21, 28,\n",
       "       33, 30, 23, 24, 22, 59, 34, 39, 38, 37, 42, 40, 36, 41, 58, 55, 52,\n",
       "       60, 56, 53, 50, 51, 57, 44, 43, 54], dtype=int64)"
      ]
     },
     "execution_count": 10,
     "metadata": {},
     "output_type": "execute_result"
    }
   ],
   "source": [
    "dataset['Age'].unique()"
   ]
  },
  {
   "cell_type": "code",
   "execution_count": 11,
   "id": "6c7da903",
   "metadata": {},
   "outputs": [
    {
     "data": {
      "text/plain": [
       "array([ 19000,  20000,  43000,  57000,  76000,  58000,  84000, 150000,\n",
       "        33000,  65000,  80000,  52000,  86000,  18000,  82000,  25000,\n",
       "        26000,  28000,  29000,  22000,  49000,  41000,  23000,  30000,\n",
       "        74000, 137000,  16000,  44000,  90000,  27000,  72000,  31000,\n",
       "        17000,  51000, 108000,  15000,  79000,  54000, 135000,  89000,\n",
       "        32000,  83000,  55000,  48000, 117000,  87000,  66000, 120000,\n",
       "        63000,  68000, 113000, 112000,  42000,  88000,  62000, 118000,\n",
       "        85000,  81000,  50000, 116000, 123000,  73000,  37000,  59000,\n",
       "       149000,  21000,  35000,  71000,  61000,  75000,  53000, 107000,\n",
       "        96000,  45000,  47000, 100000,  38000,  69000, 148000, 115000,\n",
       "        34000,  60000,  70000,  36000,  39000, 134000, 101000, 130000,\n",
       "       114000, 142000,  78000, 143000,  91000, 144000, 102000, 126000,\n",
       "       133000, 147000, 104000, 146000, 122000,  97000,  95000, 131000,\n",
       "        77000, 125000, 106000, 141000,  93000, 138000, 119000, 105000,\n",
       "        99000, 129000,  46000,  64000, 139000], dtype=int64)"
      ]
     },
     "execution_count": 11,
     "metadata": {},
     "output_type": "execute_result"
    }
   ],
   "source": [
    "dataset['EstimatedSalary'].unique()"
   ]
  },
  {
   "cell_type": "code",
   "execution_count": 12,
   "id": "73c71486",
   "metadata": {},
   "outputs": [
    {
     "data": {
      "text/plain": [
       "array([0, 1], dtype=int64)"
      ]
     },
     "execution_count": 12,
     "metadata": {},
     "output_type": "execute_result"
    }
   ],
   "source": [
    "dataset['Purchased'].unique()"
   ]
  },
  {
   "cell_type": "markdown",
   "id": "a5a47162",
   "metadata": {},
   "source": [
    "#### Data Processing"
   ]
  },
  {
   "cell_type": "markdown",
   "id": "cf5c0551",
   "metadata": {},
   "source": [
    "#### Feature Scalling before Predict Perform/Fitting Classifier"
   ]
  },
  {
   "cell_type": "code",
   "execution_count": 13,
   "id": "4ddbb263",
   "metadata": {},
   "outputs": [],
   "source": [
    "x = dataset.iloc[:, :-1].values\n",
    "y = dataset.iloc[:, -1].values"
   ]
  },
  {
   "cell_type": "code",
   "execution_count": 14,
   "id": "a5b91c87",
   "metadata": {},
   "outputs": [],
   "source": [
    "from sklearn.model_selection import train_test_split\n",
    "x_train, x_test, y_train, y_test = train_test_split(x, y, test_size = 0.2, random_state = 4)"
   ]
  },
  {
   "cell_type": "code",
   "execution_count": 15,
   "id": "6bd25435",
   "metadata": {},
   "outputs": [],
   "source": [
    "from sklearn.preprocessing import StandardScaler"
   ]
  },
  {
   "cell_type": "code",
   "execution_count": 16,
   "id": "7f6c138d",
   "metadata": {},
   "outputs": [],
   "source": [
    "sc = StandardScaler()\n",
    "x_train = sc.fit_transform(x_train)\n",
    "x_test = sc.transform(x_test)"
   ]
  },
  {
   "cell_type": "code",
   "execution_count": 17,
   "id": "e194438c",
   "metadata": {},
   "outputs": [
    {
     "name": "stdout",
     "output_type": "stream",
     "text": [
      "[[-0.18630843 -0.58558652]\n",
      " [-0.28215842  1.07855156]\n",
      " [ 0.10124156  1.48024007]\n",
      " [-0.7614084  -1.53242371]\n",
      " [-0.56970841  0.44732677]\n",
      " [-0.28215842 -0.3273582 ]\n",
      " [-0.28215842  0.13171438]\n",
      " [ 0.77219152 -1.21681131]\n",
      " [ 0.38879154  0.27517456]\n",
      " [-0.18630843 -0.21259005]\n",
      " [ 1.63484148  1.70977635]\n",
      " [-0.7614084  -1.58980778]\n",
      " [-0.28215842 -1.4463476 ]\n",
      " [-0.47385841  2.25492504]\n",
      " [-1.14480838 -1.01596706]\n",
      " [ 0.67634153 -0.7290467 ]\n",
      " [-0.56970841  1.42285599]\n",
      " [-1.62405836  0.04563827]\n",
      " [ 0.67634153 -1.10204317]\n",
      " [ 0.96389151  1.93931264]\n",
      " [-1.04895838 -1.4463476 ]\n",
      " [-0.6655584   0.16040641]\n",
      " [-1.71990835  0.44732677]\n",
      " [ 2.01824146 -0.81512281]\n",
      " [ 1.44314149  0.33255863]\n",
      " [ 1.3472915  -0.92989095]\n",
      " [-0.28215842 -0.90119892]\n",
      " [ 0.96389151 -1.01596706]\n",
      " [-0.95310839 -1.10204317]\n",
      " [ 2.01824146  2.08277282]\n",
      " [ 1.05974151 -0.98727502]\n",
      " [-0.28215842 -0.58558652]\n",
      " [ 0.58049153  1.96800468]\n",
      " [-1.43235837 -1.4463476 ]\n",
      " [-1.14480838  0.04563827]\n",
      " [ 1.82654147 -0.29866616]\n",
      " [-0.28215842  0.04563827]\n",
      " [ 1.2514415   2.16884893]\n",
      " [ 0.96389151  0.10302234]\n",
      " [-0.85725839 -1.21681131]\n",
      " [-0.95310839 -0.75773874]\n",
      " [-0.37800842 -0.78643077]\n",
      " [-0.09045843 -0.24128209]\n",
      " [-0.28215842  0.59078695]\n",
      " [ 1.44314149  2.08277282]\n",
      " [-1.14480838  0.30386659]\n",
      " [ 0.10124156  0.01694623]\n",
      " [ 0.00539156 -0.26997413]\n",
      " [ 0.38879154  0.56209492]\n",
      " [ 0.86804152 -1.0446591 ]\n",
      " [ 0.29294155 -0.52820245]\n",
      " [-1.24065838  0.24648252]\n",
      " [ 1.92239147 -0.67166263]\n",
      " [-0.56970841  1.85323653]\n",
      " [-0.28215842 -0.58558652]\n",
      " [-0.09045843  2.16884893]\n",
      " [-0.6655584  -0.35605023]\n",
      " [-0.56970841  0.84901528]\n",
      " [-0.09045843 -0.52820245]\n",
      " [-0.95310839 -0.95858299]\n",
      " [ 2.11409146 -1.0446591 ]\n",
      " [ 0.96389151  2.02538875]\n",
      " [ 0.29294155  0.27517456]\n",
      " [ 0.38879154 -0.47081838]\n",
      " [ 1.3472915  -1.41765556]\n",
      " [ 0.38879154  0.13171438]\n",
      " [-0.7614084   1.04985953]\n",
      " [ 0.86804152 -1.30288742]\n",
      " [-1.43235837 -1.21681131]\n",
      " [-0.85725839  0.13171438]\n",
      " [-0.7614084   1.30808785]\n",
      " [ 0.86804152  2.11146486]\n",
      " [ 1.92239147  0.87770731]\n",
      " [-0.95310839 -0.3273582 ]\n",
      " [ 0.38879154 -0.15520598]\n",
      " [-0.09045843  0.18909845]\n",
      " [-1.04895838 -1.1307352 ]\n",
      " [ 2.11409146 -0.81512281]\n",
      " [ 0.67634153 -1.27419538]\n",
      " [ 0.96389151 -1.15942724]\n",
      " [-1.33650837 -1.24550335]\n",
      " [ 0.67634153 -1.38896353]\n",
      " [-0.28215842  0.24648252]\n",
      " [ 0.86804152 -0.78643077]\n",
      " [ 2.01824146  0.16040641]\n",
      " [ 0.29294155  0.01694623]\n",
      " [-0.37800842 -1.30288742]\n",
      " [-0.09045843  0.24648252]\n",
      " [ 1.05974151  0.50471084]\n",
      " [ 0.38879154  0.24648252]\n",
      " [-1.62405836  0.50471084]\n",
      " [-1.71990835  0.33255863]\n",
      " [ 2.11409146 -0.70035466]\n",
      " [ 0.19709155  0.13171438]\n",
      " [-0.6655584  -0.06912987]\n",
      " [-0.18630843  2.11146486]\n",
      " [ 1.53899149  1.07855156]\n",
      " [ 0.29294155  0.04563827]\n",
      " [-1.81575835 -1.27419538]\n",
      " [ 0.96389151  0.73424713]\n",
      " [ 0.19709155 -0.38474227]\n",
      " [-0.09045843 -0.44212634]\n",
      " [ 0.10124156  1.8245445 ]\n",
      " [-0.56970841  1.33677989]\n",
      " [ 2.11409146  0.36125066]\n",
      " [-0.18630843  1.36547192]\n",
      " [ 0.19709155 -0.15520598]\n",
      " [ 0.19709155  1.04985953]\n",
      " [-0.6655584  -0.12651395]\n",
      " [ 0.10124156  0.13171438]\n",
      " [-0.7614084   0.47601881]\n",
      " [ 1.05974151 -0.15520598]\n",
      " [-1.24065838 -1.38896353]\n",
      " [ 1.82654147  0.10302234]\n",
      " [-0.18630843 -0.29866616]\n",
      " [ 0.00539156 -0.58558652]\n",
      " [ 0.96389151 -1.18811928]\n",
      " [ 2.11409146 -0.81512281]\n",
      " [-0.18630843 -0.52820245]\n",
      " [-0.7614084   1.85323653]\n",
      " [ 1.63484148  1.56631617]\n",
      " [ 0.19709155  0.01694623]\n",
      " [ 0.29294155  0.47601881]\n",
      " [ 0.29294155 -1.15942724]\n",
      " [-1.33650837 -0.35605023]\n",
      " [ 2.01824146  1.70977635]\n",
      " [ 0.38879154 -0.0117458 ]\n",
      " [-0.28215842  0.13171438]\n",
      " [-0.09045843 -0.0117458 ]\n",
      " [ 2.11409146  0.90639935]\n",
      " [ 0.38879154  1.07855156]\n",
      " [ 1.05974151 -1.21681131]\n",
      " [ 0.86804152  0.99247546]\n",
      " [-1.24065838 -1.07335113]\n",
      " [-0.09045843  0.01694623]\n",
      " [ 0.77219152 -1.10204317]\n",
      " [-0.7614084  -0.61427856]\n",
      " [ 0.10124156  0.01694623]\n",
      " [ 0.19709155 -0.3273582 ]\n",
      " [ 0.38879154 -0.49951041]\n",
      " [ 0.10124156  1.8245445 ]\n",
      " [ 0.67634153 -1.38896353]\n",
      " [-0.28215842  0.04563827]\n",
      " [ 1.53899149  0.96378342]\n",
      " [-1.52820836  0.30386659]\n",
      " [-1.91160834 -0.52820245]\n",
      " [-1.14480838  0.44732677]\n",
      " [-0.85725839 -0.78643077]\n",
      " [ 0.00539156 -0.44212634]\n",
      " [-0.09045843 -1.07335113]\n",
      " [-0.28215842 -1.24550335]\n",
      " [ 1.2514415  -1.36027149]\n",
      " [ 0.00539156  0.01694623]\n",
      " [-1.33650837 -1.36027149]\n",
      " [ 0.10124156 -0.81512281]\n",
      " [-0.28215842 -0.92989095]\n",
      " [-0.95310839  0.24648252]\n",
      " [-0.09045843  0.04563827]\n",
      " [ 0.77219152 -1.38896353]\n",
      " [ 1.44314149  0.96378342]\n",
      " [ 0.77219152  0.33255863]\n",
      " [ 1.05974151 -1.21681131]\n",
      " [ 1.1555915   0.50471084]\n",
      " [ 0.86804152  1.22201174]\n",
      " [-1.81575835  0.41863474]\n",
      " [ 1.44314149 -1.0446591 ]\n",
      " [-1.81575835 -1.41765556]\n",
      " [-1.81575835  0.16040641]\n",
      " [-0.09045843  0.64817102]\n",
      " [-1.52820836 -1.24550335]\n",
      " [-0.09045843 -0.38474227]\n",
      " [ 2.01824146 -1.18811928]\n",
      " [ 1.92239147 -0.92989095]\n",
      " [-1.43235837 -0.21259005]\n",
      " [-1.43235837 -0.12651395]\n",
      " [ 0.00539156 -0.15520598]\n",
      " [ 0.77219152  0.73424713]\n",
      " [ 0.48464154  1.19331971]\n",
      " [-0.6655584  -1.58980778]\n",
      " [-0.28215842  0.76293917]\n",
      " [ 1.44314149  0.04563827]\n",
      " [ 1.73069148  1.79585246]\n",
      " [-0.28215842 -0.26997413]\n",
      " [-1.14480838 -0.78643077]\n",
      " [-0.47385841 -1.21681131]\n",
      " [-0.6655584  -1.50373167]\n",
      " [-1.04895838 -0.35605023]\n",
      " [-1.62405836 -1.56111574]\n",
      " [ 0.19709155 -0.38474227]\n",
      " [ 0.77219152 -0.3273582 ]\n",
      " [-0.09045843  0.21779049]\n",
      " [ 2.01824146  0.50471084]\n",
      " [ 0.00539156 -0.26997413]\n",
      " [ 0.96389151 -1.07335113]\n",
      " [-0.56970841 -1.50373167]\n",
      " [ 0.67634153  1.73846839]\n",
      " [-0.7614084   0.53340288]\n",
      " [-0.47385841 -0.55689448]\n",
      " [-1.14480838  0.27517456]\n",
      " [-0.6655584  -1.0446591 ]\n",
      " [-0.56970841  2.28361707]\n",
      " [ 0.19709155  2.05408078]\n",
      " [-0.85725839 -0.26997413]\n",
      " [ 0.67634153  0.24648252]\n",
      " [-0.18630843  1.56631617]\n",
      " [ 1.53899149 -1.27419538]\n",
      " [ 0.10124156  0.07433031]\n",
      " [-0.95310839  1.5089321 ]\n",
      " [ 2.11409146  1.07855156]\n",
      " [ 0.38879154 -0.18389802]\n",
      " [-1.14480838 -1.53242371]\n",
      " [-0.28215842  2.19754096]\n",
      " [ 0.86804152 -0.58558652]\n",
      " [ 0.29294155 -0.3273582 ]\n",
      " [ 1.92239147 -1.36027149]\n",
      " [-1.91160834 -0.06912987]\n",
      " [-0.85725839  0.27517456]\n",
      " [-1.14480838 -1.10204317]\n",
      " [-1.33650837 -0.44212634]\n",
      " [-0.37800842  1.27939581]\n",
      " [ 0.86804152 -1.15942724]\n",
      " [ 0.10124156  1.02116749]\n",
      " [ 0.00539156  1.19331971]\n",
      " [ 0.19709155 -0.38474227]\n",
      " [-1.14480838 -1.58980778]\n",
      " [ 1.92239147  2.11146486]\n",
      " [-1.43235837  0.33255863]\n",
      " [-0.28215842 -0.29866616]\n",
      " [ 0.86804152 -1.36027149]\n",
      " [-1.04895838 -1.53242371]\n",
      " [ 0.96389151  1.73846839]\n",
      " [-0.28215842  0.18909845]\n",
      " [-0.47385841 -1.1307352 ]\n",
      " [-0.09045843  0.13171438]\n",
      " [ 0.10124156  0.18909845]\n",
      " [-0.7614084   0.24648252]\n",
      " [-0.28215842 -1.36027149]\n",
      " [ 0.10124156 -0.26997413]\n",
      " [-0.28215842 -0.15520598]\n",
      " [-0.95310839  0.47601881]\n",
      " [ 0.38879154  0.07433031]\n",
      " [-1.04895838  1.91062061]\n",
      " [ 0.86804152  1.04985953]\n",
      " [-0.37800842  1.19331971]\n",
      " [ 0.29294155  0.04563827]\n",
      " [-1.14480838 -1.15942724]\n",
      " [-1.04895838 -0.35605023]\n",
      " [ 0.58049153 -0.90119892]\n",
      " [-1.91160834  0.44732677]\n",
      " [ 0.96389151  0.56209492]\n",
      " [-1.91160834 -0.75773874]\n",
      " [-1.04895838  0.53340288]\n",
      " [-0.56970841  1.33677989]\n",
      " [ 1.63484148 -0.90119892]\n",
      " [-0.6655584   1.36547192]\n",
      " [-0.18630843  0.82032324]\n",
      " [-0.6655584   0.01694623]\n",
      " [-0.28215842 -1.38896353]\n",
      " [-0.09045843  0.27517456]\n",
      " [ 0.10124156 -0.81512281]\n",
      " [-1.14480838  0.27517456]\n",
      " [-0.09045843  0.27517456]\n",
      " [ 1.1555915  -0.98727502]\n",
      " [ 0.96389151  1.39416396]\n",
      " [ 0.29294155 -0.21259005]\n",
      " [-1.33650837  0.3899427 ]\n",
      " [ 0.96389151 -0.84381484]\n",
      " [-0.09045843  2.11146486]\n",
      " [ 0.38879154  0.27517456]\n",
      " [ 0.29294155 -0.7290467 ]\n",
      " [-0.28215842 -0.67166263]\n",
      " [-0.47385841 -0.84381484]\n",
      " [-0.47385841  1.22201174]\n",
      " [ 0.19709155  0.21779049]\n",
      " [ 0.38879154  2.25492504]\n",
      " [-1.33650837  0.53340288]\n",
      " [-1.33650837 -1.10204317]\n",
      " [ 1.3472915   0.56209492]\n",
      " [-0.28215842 -0.75773874]\n",
      " [-0.28215842  0.07433031]\n",
      " [ 1.3472915   1.25070378]\n",
      " [-1.04895838 -0.38474227]\n",
      " [ 0.96389151 -1.07335113]\n",
      " [ 0.29294155  0.24648252]\n",
      " [-1.24065838  0.56209492]\n",
      " [ 1.73069148  0.96378342]\n",
      " [-0.85725839  2.226233  ]\n",
      " [ 0.86804152 -0.55689448]\n",
      " [ 0.29294155 -0.52820245]\n",
      " [-0.6655584   0.53340288]\n",
      " [-1.71990835  0.33255863]\n",
      " [-0.6655584   0.10302234]\n",
      " [-0.18630843 -1.07335113]\n",
      " [-0.95310839  0.53340288]\n",
      " [-1.43235837 -0.64297059]\n",
      " [ 1.05974151  0.10302234]\n",
      " [-1.71990835  0.10302234]\n",
      " [ 0.86804152 -0.61427856]\n",
      " [-0.47385841 -0.78643077]\n",
      " [-1.81575835 -1.47503963]\n",
      " [-0.85725839  0.36125066]\n",
      " [ 0.38879154 -0.15520598]\n",
      " [-0.28215842 -0.38474227]\n",
      " [-0.95310839  0.3899427 ]\n",
      " [-0.47385841 -0.04043784]\n",
      " [ 0.77219152 -0.84381484]\n",
      " [ 1.05974151  2.02538875]\n",
      " [ 0.10124156  0.73424713]\n",
      " [-0.85725839  0.36125066]\n",
      " [ 0.00539156  0.27517456]\n",
      " [ 0.38879154 -0.47081838]\n",
      " [ 0.96389151  1.8245445 ]\n",
      " [-1.52820836 -1.50373167]\n",
      " [ 1.2514415   1.8245445 ]\n",
      " [-0.95310839  0.41863474]\n",
      " [ 0.48464154  1.68108432]\n",
      " [ 1.73069148 -0.29866616]\n",
      " [-1.71990835 -0.98727502]\n",
      " [-0.37800842  0.04563827]\n",
      " [ 0.19709155  0.13171438]]\n"
     ]
    }
   ],
   "source": [
    "print(x_train)"
   ]
  },
  {
   "cell_type": "code",
   "execution_count": 18,
   "id": "fe1ee3ce",
   "metadata": {},
   "outputs": [
    {
     "name": "stdout",
     "output_type": "stream",
     "text": [
      "[[-0.47385841 -0.29866616]\n",
      " [-1.04895838  0.3899427 ]\n",
      " [-1.24065838  0.47601881]\n",
      " [ 0.00539156 -0.58558652]\n",
      " [-1.04895838  0.50471084]\n",
      " [ 1.82654147 -1.27419538]\n",
      " [ 0.77219152  0.50471084]\n",
      " [ 1.3472915   1.93931264]\n",
      " [ 1.05974151  0.53340288]\n",
      " [ 0.00539156 -0.55689448]\n",
      " [ 0.00539156 -0.3273582 ]\n",
      " [-1.04895838 -0.47081838]\n",
      " [-1.24065838  0.27517456]\n",
      " [ 0.29294155 -0.29866616]\n",
      " [ 0.29294155 -0.55689448]\n",
      " [-0.37800842 -0.78643077]\n",
      " [-1.14480838 -0.52820245]\n",
      " [-1.14480838 -1.58980778]\n",
      " [-1.33650837 -0.44212634]\n",
      " [-1.33650837 -1.47503963]\n",
      " [-0.18630843 -0.47081838]\n",
      " [-0.95310839 -0.3273582 ]\n",
      " [-1.91160834  0.33255863]\n",
      " [ 1.92239147  0.7055551 ]\n",
      " [ 0.29294155  0.04563827]\n",
      " [ 1.82654147  1.48024007]\n",
      " [-1.04895838  0.73424713]\n",
      " [ 0.19709155  0.04563827]\n",
      " [-1.71990835 -1.36027149]\n",
      " [-0.28215842  0.01694623]\n",
      " [ 0.10124156 -0.3273582 ]\n",
      " [ 0.77219152 -1.36027149]\n",
      " [-1.62405836 -0.06912987]\n",
      " [-0.7614084   0.27517456]\n",
      " [ 0.86804152 -0.67166263]\n",
      " [-0.18630843  0.13171438]\n",
      " [ 1.53899149 -0.0117458 ]\n",
      " [-1.14480838 -1.56111574]\n",
      " [-0.28215842  0.50471084]\n",
      " [-0.56970841 -1.50373167]\n",
      " [-0.18630843  1.59500821]\n",
      " [-1.14480838  0.3899427 ]\n",
      " [-1.71990835 -0.61427856]\n",
      " [-0.95310839 -0.44212634]\n",
      " [ 0.86804152 -1.4463476 ]\n",
      " [ 0.19709155 -0.26997413]\n",
      " [-0.85725839 -0.78643077]\n",
      " [-0.09045843  0.10302234]\n",
      " [ 0.77219152  0.24648252]\n",
      " [ 0.38879154  0.96378342]\n",
      " [-0.28215842 -0.44212634]\n",
      " [-1.14480838  1.36547192]\n",
      " [ 0.19709155 -0.67166263]\n",
      " [ 2.01824146  0.36125066]\n",
      " [ 0.48464154  1.79585246]\n",
      " [-0.28215842 -1.30288742]\n",
      " [ 0.00539156  1.22201174]\n",
      " [-0.7614084  -0.24128209]\n",
      " [ 0.10124156  0.24648252]\n",
      " [ 1.1555915  -0.75773874]\n",
      " [ 1.82654147 -1.07335113]\n",
      " [ 1.1555915  -1.4463476 ]\n",
      " [-0.85725839 -0.67166263]\n",
      " [-0.28215842 -0.35605023]\n",
      " [-1.04895838  0.56209492]\n",
      " [ 0.00539156  0.01694623]\n",
      " [-1.52820836 -0.21259005]\n",
      " [-1.81575835 -1.30288742]\n",
      " [ 0.77219152  0.10302234]\n",
      " [ 1.05974151 -0.90119892]\n",
      " [-1.52820836 -0.44212634]\n",
      " [ 0.77219152  1.33677989]\n",
      " [ 0.19709155 -0.29866616]\n",
      " [-0.09045843  1.91062061]\n",
      " [ 1.3472915   2.28361707]\n",
      " [-0.28215842 -0.49951041]\n",
      " [ 0.29294155  0.04563827]\n",
      " [-1.81575835 -0.0117458 ]\n",
      " [-0.09045843 -0.49951041]\n",
      " [ 1.05974151  0.44732677]]\n"
     ]
    }
   ],
   "source": [
    "print(x_test)"
   ]
  },
  {
   "cell_type": "code",
   "execution_count": 19,
   "id": "571d98ca",
   "metadata": {},
   "outputs": [
    {
     "name": "stdout",
     "output_type": "stream",
     "text": [
      "[0 0 1 0 0 0 0 1 1 0 1 0 0 1 0 1 1 0 1 1 0 0 0 0 1 1 0 1 0 1 1 0 1 0 0 1 0\n",
      " 1 1 0 0 0 0 1 1 0 0 0 1 1 0 0 1 1 0 1 0 1 0 0 1 0 0 0 1 0 1 1 0 0 0 1 1 0\n",
      " 0 0 0 1 1 1 0 1 0 0 1 0 0 1 1 0 0 0 1 0 0 1 1 0 0 1 0 0 1 1 1 1 0 1 0 1 0\n",
      " 0 0 1 0 0 1 1 0 1 1 1 1 0 0 1 0 0 1 1 1 1 1 0 0 1 0 0 0 0 1 1 0 1 0 0 0 0\n",
      " 0 0 0 1 0 0 0 0 0 0 0 1 0 1 1 1 0 1 0 0 1 0 0 1 1 0 0 0 0 1 0 1 1 1 0 0 0\n",
      " 0 0 0 0 0 1 1 0 1 0 1 0 0 0 0 1 1 0 0 1 1 0 1 1 0 0 1 1 0 1 0 0 0 0 0 1 1\n",
      " 0 0 0 1 0 0 1 0 1 0 0 0 0 0 0 0 0 0 1 1 1 1 0 0 0 0 0 1 0 0 0 1 1 1 0 0 0\n",
      " 0 0 0 1 1 0 0 1 1 0 0 0 0 0 0 1 0 0 1 0 0 0 0 1 0 0 1 1 1 0 0 0 0 0 0 0 0\n",
      " 0 1 0 0 0 0 0 0 0 1 1 1 0 0 0 1 0 0 0 1 1 0 0 0]\n"
     ]
    }
   ],
   "source": [
    "print(y_train)"
   ]
  },
  {
   "cell_type": "code",
   "execution_count": 20,
   "id": "9aacef6f",
   "metadata": {},
   "outputs": [
    {
     "name": "stdout",
     "output_type": "stream",
     "text": [
      "[0 0 0 0 0 1 1 1 1 0 0 0 0 0 0 0 0 0 0 0 0 0 0 1 0 1 1 0 0 0 0 1 0 0 0 0 1\n",
      " 0 0 0 1 0 0 0 1 0 0 0 1 1 0 0 0 0 0 0 1 0 0 0 1 1 0 0 0 0 0 0 0 1 0 1 0 1\n",
      " 1 0 0 0 0 1]\n"
     ]
    }
   ],
   "source": [
    "print(y_test)"
   ]
  },
  {
   "cell_type": "markdown",
   "id": "95979296",
   "metadata": {},
   "source": [
    "#### Predict Purchased (1) or Not Purchased (0) using Decision Tree Classifier"
   ]
  },
  {
   "cell_type": "code",
   "execution_count": 21,
   "id": "2c9d69fe",
   "metadata": {},
   "outputs": [],
   "source": [
    "from sklearn import tree"
   ]
  },
  {
   "cell_type": "code",
   "execution_count": 22,
   "id": "d6ff9b69",
   "metadata": {},
   "outputs": [
    {
     "data": {
      "text/plain": [
       "DecisionTreeClassifier()"
      ]
     },
     "execution_count": 22,
     "metadata": {},
     "output_type": "execute_result"
    }
   ],
   "source": [
    "classifier = tree.DecisionTreeClassifier()\n",
    "classifier.fit(x_train, y_train)"
   ]
  },
  {
   "cell_type": "code",
   "execution_count": 23,
   "id": "765ece1a",
   "metadata": {},
   "outputs": [
    {
     "name": "stdout",
     "output_type": "stream",
     "text": [
      "[0]\n"
     ]
    }
   ],
   "source": [
    "print(classifier.predict(sc.transform([[30,87000]])))"
   ]
  },
  {
   "cell_type": "code",
   "execution_count": 24,
   "id": "da5ce48b",
   "metadata": {},
   "outputs": [
    {
     "name": "stdout",
     "output_type": "stream",
     "text": [
      "[[0 0]\n",
      " [0 0]\n",
      " [0 0]\n",
      " [0 0]\n",
      " [0 0]\n",
      " [1 1]\n",
      " [0 1]\n",
      " [0 1]\n",
      " [1 1]\n",
      " [0 0]\n",
      " [0 0]\n",
      " [0 0]\n",
      " [0 0]\n",
      " [0 0]\n",
      " [0 0]\n",
      " [0 0]\n",
      " [0 0]\n",
      " [0 0]\n",
      " [0 0]\n",
      " [0 0]\n",
      " [0 0]\n",
      " [0 0]\n",
      " [0 0]\n",
      " [1 1]\n",
      " [0 0]\n",
      " [1 1]\n",
      " [0 1]\n",
      " [1 0]\n",
      " [0 0]\n",
      " [0 0]\n",
      " [0 0]\n",
      " [0 1]\n",
      " [0 0]\n",
      " [0 0]\n",
      " [1 0]\n",
      " [0 0]\n",
      " [1 1]\n",
      " [0 0]\n",
      " [0 0]\n",
      " [0 0]\n",
      " [1 1]\n",
      " [0 0]\n",
      " [0 0]\n",
      " [0 0]\n",
      " [1 1]\n",
      " [0 0]\n",
      " [0 0]\n",
      " [0 0]\n",
      " [0 1]\n",
      " [1 1]\n",
      " [0 0]\n",
      " [1 0]\n",
      " [0 0]\n",
      " [1 0]\n",
      " [1 0]\n",
      " [0 0]\n",
      " [0 1]\n",
      " [0 0]\n",
      " [0 0]\n",
      " [0 0]\n",
      " [1 1]\n",
      " [1 1]\n",
      " [0 0]\n",
      " [0 0]\n",
      " [0 0]\n",
      " [0 0]\n",
      " [0 0]\n",
      " [0 0]\n",
      " [0 0]\n",
      " [1 1]\n",
      " [0 0]\n",
      " [0 1]\n",
      " [0 0]\n",
      " [1 1]\n",
      " [1 1]\n",
      " [0 0]\n",
      " [0 0]\n",
      " [0 0]\n",
      " [0 0]\n",
      " [1 1]]\n"
     ]
    }
   ],
   "source": [
    "y_pred = classifier.predict(x_test)\n",
    "print(np.concatenate((y_pred.reshape(len(y_pred),1), y_test.reshape(len(y_test),1)),1))"
   ]
  },
  {
   "cell_type": "markdown",
   "id": "0eb50cb3",
   "metadata": {},
   "source": [
    "#### Calculated Accuracy Score using Confusion Matrix"
   ]
  },
  {
   "cell_type": "code",
   "execution_count": 25,
   "id": "57cf6bcd",
   "metadata": {},
   "outputs": [],
   "source": [
    "from sklearn.metrics import confusion_matrix, accuracy_score"
   ]
  },
  {
   "cell_type": "code",
   "execution_count": 26,
   "id": "59085b74",
   "metadata": {},
   "outputs": [
    {
     "name": "stdout",
     "output_type": "stream",
     "text": [
      "[[54  5]\n",
      " [ 7 14]]\n"
     ]
    }
   ],
   "source": [
    "conf = confusion_matrix(y_test, y_pred)\n",
    "print(conf)"
   ]
  },
  {
   "cell_type": "code",
   "execution_count": 27,
   "id": "baa00b4d",
   "metadata": {},
   "outputs": [
    {
     "name": "stdout",
     "output_type": "stream",
     "text": [
      "Confusion Matrix Accuracy Score :  0.85\n"
     ]
    }
   ],
   "source": [
    "accscore = accuracy_score(y_test, y_pred)\n",
    "print(\"Confusion Matrix Accuracy Score : \", accscore)"
   ]
  },
  {
   "cell_type": "markdown",
   "id": "a6285971",
   "metadata": {},
   "source": [
    "#### Visualising the Training and Test Set Results"
   ]
  },
  {
   "cell_type": "code",
   "execution_count": 28,
   "id": "44e0d632",
   "metadata": {},
   "outputs": [],
   "source": [
    "from matplotlib.colors import ListedColormap"
   ]
  },
  {
   "cell_type": "code",
   "execution_count": 29,
   "id": "25d1fd76",
   "metadata": {},
   "outputs": [
    {
     "data": {
      "image/png": "[encoded data removed]",
      "text/plain": [
       "<Figure size 432x288 with 1 Axes>"
      ]
     },
     "metadata": {
      "needs_background": "light"
     },
     "output_type": "display_data"
    }
   ],
   "source": [
    "x_set, y_set = sc.inverse_transform(x_train), y_train\n",
    "x, y = np.meshgrid(np.arange(start = x_set[:, 0].min() - 10, stop = x_set[:, 0].max() + 10, step = 0.25),\n",
    " np.arange(start = x_set[:, 1].min() - 1000, stop = x_set[:, 1].max() + 1000, step = 0.25))\n",
    "plt.contourf(x, y, classifier.predict(sc.transform(np.array([x.ravel(), y.ravel()]).T)).reshape(x.shape),\n",
    "alpha = 0.75, cmap = ListedColormap(['red', 'green']))\n",
    "plt.xlim(x.min(), x.max())\n",
    "plt.ylim(y.min(), y.max())\n",
    "for i, j in enumerate(np.unique(y_set)):\n",
    " plt.scatter(x_set[y_set == j, 0], x_set[y_set == j, 1],\n",
    " color = ListedColormap(('red', 'green'))(i), label = j)\n",
    "plt.title('Decision Tree Classifier (Training set)')\n",
    "plt.xlabel('Age')\n",
    "plt.ylabel('Estimated Salary')\n",
    "plt.legend()\n",
    "plt.show()"
   ]
  },
  {
   "cell_type": "code",
   "execution_count": 30,
   "id": "438db4bc",
   "metadata": {},
   "outputs": [],
   "source": [
    "from matplotlib.colors import ListedColormap"
   ]
  },
  {
   "cell_type": "code",
   "execution_count": 31,
   "id": "dfd4eaba",
   "metadata": {},
   "outputs": [
    {
     "data": {
      "image/png": "[encoded data removed]",
      "text/plain": [
       "<Figure size 432x288 with 1 Axes>"
      ]
     },
     "metadata": {
      "needs_background": "light"
     },
     "output_type": "display_data"
    }
   ],
   "source": [
    "x_set, y_set = sc.inverse_transform(x_test), y_test\n",
    "x, y = np.meshgrid(np.arange(start = x_set[:, 0].min() - 10, stop = x_set[:, 0].max() + 10, step = 0.25),\n",
    " np.arange(start = x_set[:, 1].min() - 1000, stop = x_set[:, 1].max() + 1000, step = 0.25))\n",
    "plt.contourf(x, y, classifier.predict(sc.transform(np.array([x.ravel(), y.ravel()]).T)).reshape(x.shape),\n",
    "alpha = 0.75, cmap = ListedColormap(['red', 'green']))\n",
    "plt.xlim(x.min(), x.max())\n",
    "plt.ylim(y.min(), y.max())\n",
    "for i, j in enumerate(np.unique(y_set)):\n",
    " plt.scatter(x_set[y_set == j, 0], x_set[y_set == j, 1],\n",
    " color = ListedColormap(('red', 'green'))(i), label = j)\n",
    "plt.title('Decision Tree Classifier (Test set)')\n",
    "plt.xlabel('Age')\n",
    "plt.ylabel('Estimated Salary')\n",
    "plt.legend()\n",
    "plt.show()"
   ]
  },
  {
   "cell_type": "markdown",
   "id": "c182bccb",
   "metadata": {},
   "source": [
    "#### End of Code"
   ]
  }
 ],
 "metadata": {
  "kernelspec": {
   "display_name": "Python 3 (ipykernel)",
   "language": "python",
   "name": "python3"
  },
  "language_info": {
   "codemirror_mode": {
    "name": "ipython",
    "version": 3
   },
   "file_extension": ".py",
   "mimetype": "text/x-python",
   "name": "python",
   "nbconvert_exporter": "python",
   "pygments_lexer": "ipython3",
   "version": "3.9.7"
  }
 },
 "nbformat": 4,
 "nbformat_minor": 5
}
