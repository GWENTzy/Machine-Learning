{
 "cells": [
  {
   "cell_type": "markdown",
   "id": "13170c9a",
   "metadata": {},
   "source": [
    "### Gerry William Nanlohy / 2440018854 / LB01 / Assignment 03"
   ]
  },
  {
   "cell_type": "markdown",
   "id": "614c9e4b",
   "metadata": {},
   "source": [
    "##### Importing Data from Various Sources"
   ]
  },
  {
   "cell_type": "code",
   "execution_count": 1,
   "id": "ac69c9bf",
   "metadata": {},
   "outputs": [],
   "source": [
    "import pandas as pd"
   ]
  },
  {
   "cell_type": "code",
   "execution_count": 2,
   "id": "5effaff4",
   "metadata": {},
   "outputs": [],
   "source": [
    "import numpy as np"
   ]
  },
  {
   "cell_type": "code",
   "execution_count": 3,
   "id": "3f47f7ff",
   "metadata": {},
   "outputs": [],
   "source": [
    "import matplotlib.pyplot as plt"
   ]
  },
  {
   "cell_type": "code",
   "execution_count": 4,
   "id": "72bb2bb6",
   "metadata": {},
   "outputs": [],
   "source": [
    "import seaborn as sns"
   ]
  },
  {
   "cell_type": "markdown",
   "id": "bc299fb1",
   "metadata": {},
   "source": [
    "##### Reading Excel Files"
   ]
  },
  {
   "cell_type": "code",
   "execution_count": 5,
   "id": "6eafa720",
   "metadata": {},
   "outputs": [],
   "source": [
    "dataset = pd.read_csv('listings.csv')"
   ]
  },
  {
   "cell_type": "code",
   "execution_count": 6,
   "id": "1de0bce9",
   "metadata": {},
   "outputs": [
    {
     "data": {
      "text/html": [
       "<div>\n",
       "<style scoped>\n",
       "    .dataframe tbody tr th:only-of-type {\n",
       "        vertical-align: middle;\n",
       "    }\n",
       "\n",
       "    .dataframe tbody tr th {\n",
       "        vertical-align: top;\n",
       "    }\n",
       "\n",
       "    .dataframe thead th {\n",
       "        text-align: right;\n",
       "    }\n",
       "</style>\n",
       "<table border=\"1\" class=\"dataframe\">\n",
       "  <thead>\n",
       "    <tr style=\"text-align: right;\">\n",
       "      <th></th>\n",
       "      <th>id</th>\n",
       "      <th>name</th>\n",
       "      <th>host_id</th>\n",
       "      <th>host_name</th>\n",
       "      <th>neighbourhood_group</th>\n",
       "      <th>neighbourhood</th>\n",
       "      <th>latitude</th>\n",
       "      <th>longitude</th>\n",
       "      <th>room_type</th>\n",
       "      <th>price</th>\n",
       "      <th>minimum_nights</th>\n",
       "      <th>number_of_reviews</th>\n",
       "      <th>last_review</th>\n",
       "      <th>reviews_per_month</th>\n",
       "      <th>calculated_host_listings_count</th>\n",
       "      <th>availability_365</th>\n",
       "    </tr>\n",
       "  </thead>\n",
       "  <tbody>\n",
       "    <tr>\n",
       "      <th>0</th>\n",
       "      <td>49091</td>\n",
       "      <td>COZICOMFORT LONG TERM STAY ROOM 2</td>\n",
       "      <td>266763</td>\n",
       "      <td>Francesca</td>\n",
       "      <td>North Region</td>\n",
       "      <td>Woodlands</td>\n",
       "      <td>1.44255</td>\n",
       "      <td>103.79580</td>\n",
       "      <td>Private room</td>\n",
       "      <td>83</td>\n",
       "      <td>180</td>\n",
       "      <td>1</td>\n",
       "      <td>2013-10-21</td>\n",
       "      <td>0.01</td>\n",
       "      <td>2</td>\n",
       "      <td>365</td>\n",
       "    </tr>\n",
       "    <tr>\n",
       "      <th>1</th>\n",
       "      <td>50646</td>\n",
       "      <td>Pleasant Room along Bukit Timah</td>\n",
       "      <td>227796</td>\n",
       "      <td>Sujatha</td>\n",
       "      <td>Central Region</td>\n",
       "      <td>Bukit Timah</td>\n",
       "      <td>1.33235</td>\n",
       "      <td>103.78521</td>\n",
       "      <td>Private room</td>\n",
       "      <td>81</td>\n",
       "      <td>90</td>\n",
       "      <td>18</td>\n",
       "      <td>2014-12-26</td>\n",
       "      <td>0.28</td>\n",
       "      <td>1</td>\n",
       "      <td>365</td>\n",
       "    </tr>\n",
       "    <tr>\n",
       "      <th>2</th>\n",
       "      <td>56334</td>\n",
       "      <td>COZICOMFORT</td>\n",
       "      <td>266763</td>\n",
       "      <td>Francesca</td>\n",
       "      <td>North Region</td>\n",
       "      <td>Woodlands</td>\n",
       "      <td>1.44246</td>\n",
       "      <td>103.79667</td>\n",
       "      <td>Private room</td>\n",
       "      <td>69</td>\n",
       "      <td>6</td>\n",
       "      <td>20</td>\n",
       "      <td>2015-10-01</td>\n",
       "      <td>0.20</td>\n",
       "      <td>2</td>\n",
       "      <td>365</td>\n",
       "    </tr>\n",
       "    <tr>\n",
       "      <th>3</th>\n",
       "      <td>71609</td>\n",
       "      <td>Ensuite Room (Room 1 &amp; 2) near EXPO</td>\n",
       "      <td>367042</td>\n",
       "      <td>Belinda</td>\n",
       "      <td>East Region</td>\n",
       "      <td>Tampines</td>\n",
       "      <td>1.34541</td>\n",
       "      <td>103.95712</td>\n",
       "      <td>Private room</td>\n",
       "      <td>206</td>\n",
       "      <td>1</td>\n",
       "      <td>14</td>\n",
       "      <td>2019-08-11</td>\n",
       "      <td>0.15</td>\n",
       "      <td>9</td>\n",
       "      <td>353</td>\n",
       "    </tr>\n",
       "    <tr>\n",
       "      <th>4</th>\n",
       "      <td>71896</td>\n",
       "      <td>B&amp;B  Room 1 near Airport &amp; EXPO</td>\n",
       "      <td>367042</td>\n",
       "      <td>Belinda</td>\n",
       "      <td>East Region</td>\n",
       "      <td>Tampines</td>\n",
       "      <td>1.34567</td>\n",
       "      <td>103.95963</td>\n",
       "      <td>Private room</td>\n",
       "      <td>94</td>\n",
       "      <td>1</td>\n",
       "      <td>22</td>\n",
       "      <td>2019-07-28</td>\n",
       "      <td>0.22</td>\n",
       "      <td>9</td>\n",
       "      <td>355</td>\n",
       "    </tr>\n",
       "  </tbody>\n",
       "</table>\n",
       "</div>"
      ],
      "text/plain": [
       "      id                                 name  host_id  host_name  \\\n",
       "0  49091    COZICOMFORT LONG TERM STAY ROOM 2   266763  Francesca   \n",
       "1  50646      Pleasant Room along Bukit Timah   227796    Sujatha   \n",
       "2  56334                          COZICOMFORT   266763  Francesca   \n",
       "3  71609  Ensuite Room (Room 1 & 2) near EXPO   367042    Belinda   \n",
       "4  71896      B&B  Room 1 near Airport & EXPO   367042    Belinda   \n",
       "\n",
       "  neighbourhood_group neighbourhood  latitude  longitude     room_type  price  \\\n",
       "0        North Region     Woodlands   1.44255  103.79580  Private room     83   \n",
       "1      Central Region   Bukit Timah   1.33235  103.78521  Private room     81   \n",
       "2        North Region     Woodlands   1.44246  103.79667  Private room     69   \n",
       "3         East Region      Tampines   1.34541  103.95712  Private room    206   \n",
       "4         East Region      Tampines   1.34567  103.95963  Private room     94   \n",
       "\n",
       "   minimum_nights  number_of_reviews last_review  reviews_per_month  \\\n",
       "0             180                  1  2013-10-21               0.01   \n",
       "1              90                 18  2014-12-26               0.28   \n",
       "2               6                 20  2015-10-01               0.20   \n",
       "3               1                 14  2019-08-11               0.15   \n",
       "4               1                 22  2019-07-28               0.22   \n",
       "\n",
       "   calculated_host_listings_count  availability_365  \n",
       "0                               2               365  \n",
       "1                               1               365  \n",
       "2                               2               365  \n",
       "3                               9               353  \n",
       "4                               9               355  "
      ]
     },
     "execution_count": 6,
     "metadata": {},
     "output_type": "execute_result"
    }
   ],
   "source": [
    "dataset.head()"
   ]
  },
  {
   "cell_type": "code",
   "execution_count": 7,
   "id": "51369b9b",
   "metadata": {},
   "outputs": [
    {
     "data": {
      "text/plain": [
       "(7907, 16)"
      ]
     },
     "execution_count": 7,
     "metadata": {},
     "output_type": "execute_result"
    }
   ],
   "source": [
    "dataset.shape"
   ]
  },
  {
   "cell_type": "markdown",
   "id": "303c6c60",
   "metadata": {},
   "source": [
    "##### Data Reading"
   ]
  },
  {
   "cell_type": "code",
   "execution_count": 8,
   "id": "a151b2aa",
   "metadata": {},
   "outputs": [
    {
     "name": "stdout",
     "output_type": "stream",
     "text": [
      "<class 'pandas.core.frame.DataFrame'>\n",
      "RangeIndex: 7907 entries, 0 to 7906\n",
      "Data columns (total 16 columns):\n",
      " #   Column                          Non-Null Count  Dtype  \n",
      "---  ------                          --------------  -----  \n",
      " 0   id                              7907 non-null   int64  \n",
      " 1   name                            7905 non-null   object \n",
      " 2   host_id                         7907 non-null   int64  \n",
      " 3   host_name                       7907 non-null   object \n",
      " 4   neighbourhood_group             7907 non-null   object \n",
      " 5   neighbourhood                   7907 non-null   object \n",
      " 6   latitude                        7907 non-null   float64\n",
      " 7   longitude                       7907 non-null   float64\n",
      " 8   room_type                       7907 non-null   object \n",
      " 9   price                           7907 non-null   int64  \n",
      " 10  minimum_nights                  7907 non-null   int64  \n",
      " 11  number_of_reviews               7907 non-null   int64  \n",
      " 12  last_review                     5149 non-null   object \n",
      " 13  reviews_per_month               5149 non-null   float64\n",
      " 14  calculated_host_listings_count  7907 non-null   int64  \n",
      " 15  availability_365                7907 non-null   int64  \n",
      "dtypes: float64(3), int64(7), object(6)\n",
      "memory usage: 988.5+ KB\n"
     ]
    }
   ],
   "source": [
    "dataset.info()"
   ]
  },
  {
   "cell_type": "code",
   "execution_count": 9,
   "id": "a3457ff6",
   "metadata": {},
   "outputs": [
    {
     "data": {
      "text/plain": [
       "id                                  int64\n",
       "name                               object\n",
       "host_id                             int64\n",
       "host_name                          object\n",
       "neighbourhood_group                object\n",
       "neighbourhood                      object\n",
       "latitude                          float64\n",
       "longitude                         float64\n",
       "room_type                          object\n",
       "price                               int64\n",
       "minimum_nights                      int64\n",
       "number_of_reviews                   int64\n",
       "last_review                        object\n",
       "reviews_per_month                 float64\n",
       "calculated_host_listings_count      int64\n",
       "availability_365                    int64\n",
       "dtype: object"
      ]
     },
     "execution_count": 9,
     "metadata": {},
     "output_type": "execute_result"
    }
   ],
   "source": [
    "dataset.dtypes"
   ]
  },
  {
   "cell_type": "code",
   "execution_count": 10,
   "id": "7c32ba2b",
   "metadata": {},
   "outputs": [
    {
     "data": {
      "text/plain": [
       "array(['North Region', 'Central Region', 'East Region', 'West Region',\n",
       "       'North-East Region'], dtype=object)"
      ]
     },
     "execution_count": 10,
     "metadata": {},
     "output_type": "execute_result"
    }
   ],
   "source": [
    "dataset['neighbourhood_group'].unique()"
   ]
  },
  {
   "cell_type": "code",
   "execution_count": 11,
   "id": "36adfac7",
   "metadata": {},
   "outputs": [
    {
     "data": {
      "text/plain": [
       "array(['Woodlands', 'Bukit Timah', 'Tampines', 'Bedok', 'Bukit Merah',\n",
       "       'Newton', 'Geylang', 'River Valley', 'Jurong West', 'Rochor',\n",
       "       'Queenstown', 'Serangoon', 'Marine Parade', 'Pasir Ris',\n",
       "       'Toa Payoh', 'Outram', 'Punggol', 'Tanglin', 'Hougang', 'Kallang',\n",
       "       'Novena', 'Downtown Core', 'Bukit Panjang', 'Singapore River',\n",
       "       'Orchard', 'Ang Mo Kio', 'Bukit Batok', 'Museum', 'Sembawang',\n",
       "       'Choa Chu Kang', 'Central Water Catchment', 'Sengkang', 'Clementi',\n",
       "       'Jurong East', 'Bishan', 'Yishun', 'Mandai', 'Southern Islands',\n",
       "       'Sungei Kadut', 'Western Water Catchment', 'Tuas', 'Marina South',\n",
       "       'Lim Chu Kang'], dtype=object)"
      ]
     },
     "execution_count": 11,
     "metadata": {},
     "output_type": "execute_result"
    }
   ],
   "source": [
    "dataset['neighbourhood'].unique()"
   ]
  },
  {
   "cell_type": "code",
   "execution_count": 12,
   "id": "0e061a7a",
   "metadata": {},
   "outputs": [
    {
     "data": {
      "text/plain": [
       "array(['Private room', 'Entire home/apt', 'Shared room'], dtype=object)"
      ]
     },
     "execution_count": 12,
     "metadata": {},
     "output_type": "execute_result"
    }
   ],
   "source": [
    "dataset['room_type'].unique()"
   ]
  },
  {
   "cell_type": "code",
   "execution_count": 13,
   "id": "8856db93",
   "metadata": {},
   "outputs": [
    {
     "data": {
      "text/plain": [
       "id                                   0\n",
       "name                                 2\n",
       "host_id                              0\n",
       "host_name                            0\n",
       "neighbourhood_group                  0\n",
       "neighbourhood                        0\n",
       "latitude                             0\n",
       "longitude                            0\n",
       "room_type                            0\n",
       "price                                0\n",
       "minimum_nights                       0\n",
       "number_of_reviews                    0\n",
       "last_review                       2758\n",
       "reviews_per_month                 2758\n",
       "calculated_host_listings_count       0\n",
       "availability_365                     0\n",
       "dtype: int64"
      ]
     },
     "execution_count": 13,
     "metadata": {},
     "output_type": "execute_result"
    }
   ],
   "source": [
    "dataset.isnull().sum()"
   ]
  },
  {
   "cell_type": "markdown",
   "id": "6b0a4ba1",
   "metadata": {},
   "source": [
    "#### 1. Extracting discrete and continuous random variables from Singapore Airbnb Data"
   ]
  },
  {
   "cell_type": "markdown",
   "id": "474049b6",
   "metadata": {},
   "source": [
    "##### Discrete Variables"
   ]
  },
  {
   "cell_type": "code",
   "execution_count": 14,
   "id": "36470bc8",
   "metadata": {},
   "outputs": [],
   "source": [
    "discrete_var = dataset.iloc[:, [9,10,11,12,13,14,15]]"
   ]
  },
  {
   "cell_type": "code",
   "execution_count": 15,
   "id": "5fe09d75",
   "metadata": {},
   "outputs": [
    {
     "data": {
      "text/html": [
       "<div>\n",
       "<style scoped>\n",
       "    .dataframe tbody tr th:only-of-type {\n",
       "        vertical-align: middle;\n",
       "    }\n",
       "\n",
       "    .dataframe tbody tr th {\n",
       "        vertical-align: top;\n",
       "    }\n",
       "\n",
       "    .dataframe thead th {\n",
       "        text-align: right;\n",
       "    }\n",
       "</style>\n",
       "<table border=\"1\" class=\"dataframe\">\n",
       "  <thead>\n",
       "    <tr style=\"text-align: right;\">\n",
       "      <th></th>\n",
       "      <th>price</th>\n",
       "      <th>minimum_nights</th>\n",
       "      <th>number_of_reviews</th>\n",
       "      <th>last_review</th>\n",
       "      <th>reviews_per_month</th>\n",
       "      <th>calculated_host_listings_count</th>\n",
       "      <th>availability_365</th>\n",
       "    </tr>\n",
       "  </thead>\n",
       "  <tbody>\n",
       "    <tr>\n",
       "      <th>0</th>\n",
       "      <td>83</td>\n",
       "      <td>180</td>\n",
       "      <td>1</td>\n",
       "      <td>2013-10-21</td>\n",
       "      <td>0.01</td>\n",
       "      <td>2</td>\n",
       "      <td>365</td>\n",
       "    </tr>\n",
       "    <tr>\n",
       "      <th>1</th>\n",
       "      <td>81</td>\n",
       "      <td>90</td>\n",
       "      <td>18</td>\n",
       "      <td>2014-12-26</td>\n",
       "      <td>0.28</td>\n",
       "      <td>1</td>\n",
       "      <td>365</td>\n",
       "    </tr>\n",
       "    <tr>\n",
       "      <th>2</th>\n",
       "      <td>69</td>\n",
       "      <td>6</td>\n",
       "      <td>20</td>\n",
       "      <td>2015-10-01</td>\n",
       "      <td>0.20</td>\n",
       "      <td>2</td>\n",
       "      <td>365</td>\n",
       "    </tr>\n",
       "    <tr>\n",
       "      <th>3</th>\n",
       "      <td>206</td>\n",
       "      <td>1</td>\n",
       "      <td>14</td>\n",
       "      <td>2019-08-11</td>\n",
       "      <td>0.15</td>\n",
       "      <td>9</td>\n",
       "      <td>353</td>\n",
       "    </tr>\n",
       "    <tr>\n",
       "      <th>4</th>\n",
       "      <td>94</td>\n",
       "      <td>1</td>\n",
       "      <td>22</td>\n",
       "      <td>2019-07-28</td>\n",
       "      <td>0.22</td>\n",
       "      <td>9</td>\n",
       "      <td>355</td>\n",
       "    </tr>\n",
       "    <tr>\n",
       "      <th>...</th>\n",
       "      <td>...</td>\n",
       "      <td>...</td>\n",
       "      <td>...</td>\n",
       "      <td>...</td>\n",
       "      <td>...</td>\n",
       "      <td>...</td>\n",
       "      <td>...</td>\n",
       "    </tr>\n",
       "    <tr>\n",
       "      <th>7902</th>\n",
       "      <td>100</td>\n",
       "      <td>3</td>\n",
       "      <td>0</td>\n",
       "      <td>NaN</td>\n",
       "      <td>NaN</td>\n",
       "      <td>31</td>\n",
       "      <td>61</td>\n",
       "    </tr>\n",
       "    <tr>\n",
       "      <th>7903</th>\n",
       "      <td>550</td>\n",
       "      <td>6</td>\n",
       "      <td>0</td>\n",
       "      <td>NaN</td>\n",
       "      <td>NaN</td>\n",
       "      <td>34</td>\n",
       "      <td>365</td>\n",
       "    </tr>\n",
       "    <tr>\n",
       "      <th>7904</th>\n",
       "      <td>58</td>\n",
       "      <td>30</td>\n",
       "      <td>0</td>\n",
       "      <td>NaN</td>\n",
       "      <td>NaN</td>\n",
       "      <td>3</td>\n",
       "      <td>173</td>\n",
       "    </tr>\n",
       "    <tr>\n",
       "      <th>7905</th>\n",
       "      <td>56</td>\n",
       "      <td>14</td>\n",
       "      <td>0</td>\n",
       "      <td>NaN</td>\n",
       "      <td>NaN</td>\n",
       "      <td>2</td>\n",
       "      <td>30</td>\n",
       "    </tr>\n",
       "    <tr>\n",
       "      <th>7906</th>\n",
       "      <td>65</td>\n",
       "      <td>90</td>\n",
       "      <td>0</td>\n",
       "      <td>NaN</td>\n",
       "      <td>NaN</td>\n",
       "      <td>7</td>\n",
       "      <td>365</td>\n",
       "    </tr>\n",
       "  </tbody>\n",
       "</table>\n",
       "<p>7907 rows × 7 columns</p>\n",
       "</div>"
      ],
      "text/plain": [
       "      price  minimum_nights  number_of_reviews last_review  reviews_per_month  \\\n",
       "0        83             180                  1  2013-10-21               0.01   \n",
       "1        81              90                 18  2014-12-26               0.28   \n",
       "2        69               6                 20  2015-10-01               0.20   \n",
       "3       206               1                 14  2019-08-11               0.15   \n",
       "4        94               1                 22  2019-07-28               0.22   \n",
       "...     ...             ...                ...         ...                ...   \n",
       "7902    100               3                  0         NaN                NaN   \n",
       "7903    550               6                  0         NaN                NaN   \n",
       "7904     58              30                  0         NaN                NaN   \n",
       "7905     56              14                  0         NaN                NaN   \n",
       "7906     65              90                  0         NaN                NaN   \n",
       "\n",
       "      calculated_host_listings_count  availability_365  \n",
       "0                                  2               365  \n",
       "1                                  1               365  \n",
       "2                                  2               365  \n",
       "3                                  9               353  \n",
       "4                                  9               355  \n",
       "...                              ...               ...  \n",
       "7902                              31                61  \n",
       "7903                              34               365  \n",
       "7904                               3               173  \n",
       "7905                               2                30  \n",
       "7906                               7               365  \n",
       "\n",
       "[7907 rows x 7 columns]"
      ]
     },
     "execution_count": 15,
     "metadata": {},
     "output_type": "execute_result"
    }
   ],
   "source": [
    "discrete_var"
   ]
  },
  {
   "cell_type": "markdown",
   "id": "aa98d7ad",
   "metadata": {},
   "source": [
    "##### Continous Variables"
   ]
  },
  {
   "cell_type": "code",
   "execution_count": 16,
   "id": "27eb5fcf",
   "metadata": {},
   "outputs": [],
   "source": [
    "continous_var = dataset.iloc[:, [6,7]]"
   ]
  },
  {
   "cell_type": "code",
   "execution_count": 17,
   "id": "e0e1632f",
   "metadata": {},
   "outputs": [
    {
     "data": {
      "text/html": [
       "<div>\n",
       "<style scoped>\n",
       "    .dataframe tbody tr th:only-of-type {\n",
       "        vertical-align: middle;\n",
       "    }\n",
       "\n",
       "    .dataframe tbody tr th {\n",
       "        vertical-align: top;\n",
       "    }\n",
       "\n",
       "    .dataframe thead th {\n",
       "        text-align: right;\n",
       "    }\n",
       "</style>\n",
       "<table border=\"1\" class=\"dataframe\">\n",
       "  <thead>\n",
       "    <tr style=\"text-align: right;\">\n",
       "      <th></th>\n",
       "      <th>latitude</th>\n",
       "      <th>longitude</th>\n",
       "    </tr>\n",
       "  </thead>\n",
       "  <tbody>\n",
       "    <tr>\n",
       "      <th>0</th>\n",
       "      <td>1.44255</td>\n",
       "      <td>103.79580</td>\n",
       "    </tr>\n",
       "    <tr>\n",
       "      <th>1</th>\n",
       "      <td>1.33235</td>\n",
       "      <td>103.78521</td>\n",
       "    </tr>\n",
       "    <tr>\n",
       "      <th>2</th>\n",
       "      <td>1.44246</td>\n",
       "      <td>103.79667</td>\n",
       "    </tr>\n",
       "    <tr>\n",
       "      <th>3</th>\n",
       "      <td>1.34541</td>\n",
       "      <td>103.95712</td>\n",
       "    </tr>\n",
       "    <tr>\n",
       "      <th>4</th>\n",
       "      <td>1.34567</td>\n",
       "      <td>103.95963</td>\n",
       "    </tr>\n",
       "    <tr>\n",
       "      <th>...</th>\n",
       "      <td>...</td>\n",
       "      <td>...</td>\n",
       "    </tr>\n",
       "    <tr>\n",
       "      <th>7902</th>\n",
       "      <td>1.27973</td>\n",
       "      <td>103.78751</td>\n",
       "    </tr>\n",
       "    <tr>\n",
       "      <th>7903</th>\n",
       "      <td>1.29269</td>\n",
       "      <td>103.82623</td>\n",
       "    </tr>\n",
       "    <tr>\n",
       "      <th>7904</th>\n",
       "      <td>1.31286</td>\n",
       "      <td>103.85996</td>\n",
       "    </tr>\n",
       "    <tr>\n",
       "      <th>7905</th>\n",
       "      <td>1.29543</td>\n",
       "      <td>103.83801</td>\n",
       "    </tr>\n",
       "    <tr>\n",
       "      <th>7906</th>\n",
       "      <td>1.29672</td>\n",
       "      <td>103.83325</td>\n",
       "    </tr>\n",
       "  </tbody>\n",
       "</table>\n",
       "<p>7907 rows × 2 columns</p>\n",
       "</div>"
      ],
      "text/plain": [
       "      latitude  longitude\n",
       "0      1.44255  103.79580\n",
       "1      1.33235  103.78521\n",
       "2      1.44246  103.79667\n",
       "3      1.34541  103.95712\n",
       "4      1.34567  103.95963\n",
       "...        ...        ...\n",
       "7902   1.27973  103.78751\n",
       "7903   1.29269  103.82623\n",
       "7904   1.31286  103.85996\n",
       "7905   1.29543  103.83801\n",
       "7906   1.29672  103.83325\n",
       "\n",
       "[7907 rows x 2 columns]"
      ]
     },
     "execution_count": 17,
     "metadata": {},
     "output_type": "execute_result"
    }
   ],
   "source": [
    "continous_var"
   ]
  },
  {
   "cell_type": "markdown",
   "id": "b01f67a4",
   "metadata": {},
   "source": [
    "#### 2. Calculated PMF (probability mass function) for discrete random variables (only 1 variable)"
   ]
  },
  {
   "cell_type": "code",
   "execution_count": 18,
   "id": "ed6b3598",
   "metadata": {},
   "outputs": [],
   "source": [
    "discrete_var = dataset.iloc[:, [9]]"
   ]
  },
  {
   "cell_type": "code",
   "execution_count": 19,
   "id": "15afa413",
   "metadata": {},
   "outputs": [
    {
     "name": "stdout",
     "output_type": "stream",
     "text": [
      "      price\n",
      "0        83\n",
      "1        81\n",
      "2        69\n",
      "3       206\n",
      "4        94\n",
      "...     ...\n",
      "7902    100\n",
      "7903    550\n",
      "7904     58\n",
      "7905     56\n",
      "7906     65\n",
      "\n",
      "[7907 rows x 1 columns]\n"
     ]
    }
   ],
   "source": [
    "print(discrete_var)"
   ]
  },
  {
   "cell_type": "code",
   "execution_count": 20,
   "id": "24fad22f",
   "metadata": {},
   "outputs": [],
   "source": [
    "val, cnt = np.unique(discrete_var, return_counts = True)\n",
    "prop = cnt / len(discrete_var)"
   ]
  },
  {
   "cell_type": "code",
   "execution_count": 21,
   "id": "6855ec9f",
   "metadata": {},
   "outputs": [
    {
     "name": "stdout",
     "output_type": "stream",
     "text": [
      "[0.00012647 0.00050588 0.00063235 0.00050588 0.00354117 0.00113823\n",
      " 0.00429999 0.00366764 0.00581763 0.00644998 0.00392058 0.00303529\n",
      " 0.00809409 0.00227646 0.00442646 0.01011762 0.00278234 0.00695586\n",
      " 0.00429999 0.0165676  0.00556469 0.00303529 0.01517643 0.00189705\n",
      " 0.00151764 0.01201467 0.02643228 0.00543822 0.00303529 0.00265587\n",
      " 0.01922347 0.00569116 0.01289996 0.02757051 0.00101176 0.00657645\n",
      " 0.00164411 0.01214114 0.00328823 0.00328823 0.02149994 0.00037941\n",
      " 0.00303529 0.00177058 0.00961174 0.00265587 0.00379411 0.00290881\n",
      " 0.01846465 0.00151764 0.00265587 0.01087644 0.0012647  0.0118882\n",
      " 0.00366764 0.01568231 0.00177058 0.00113823 0.00986468 0.00177058\n",
      " 0.00088529 0.01365878 0.02390287 0.00164411 0.00139117 0.00214999\n",
      " 0.00758821 0.00050588 0.00543822 0.01618819 0.00214999 0.00265587\n",
      " 0.00113823 0.00493234 0.00113823 0.00695586 0.01922347 0.00025294\n",
      " 0.00189705 0.00303529 0.01011762 0.00151764 0.00543822 0.00316176\n",
      " 0.02162641 0.00290881 0.00113823 0.00746174 0.00442646 0.01150879\n",
      " 0.0084735  0.01037056 0.0012647  0.00075882 0.00796762 0.00392058\n",
      " 0.00088529 0.00771468 0.02200582 0.00404705 0.00151764 0.00075882\n",
      " 0.00670292 0.00063235 0.00682939 0.00822056 0.00101176 0.0012647\n",
      " 0.00113823 0.0046794  0.0012647  0.00784115 0.01024409 0.00050588\n",
      " 0.00063235 0.00025294 0.00366764 0.00050588 0.00392058 0.00151764\n",
      " 0.01479702 0.00050588 0.00075882 0.00354117 0.00075882 0.00784115\n",
      " 0.00240293 0.00404705 0.00075882 0.00012647 0.0034147  0.00075882\n",
      " 0.00025294 0.00910586 0.02099406 0.0012647  0.00025294 0.00088529\n",
      " 0.00151764 0.00012647 0.00518528 0.00354117 0.00037941 0.00037941\n",
      " 0.00050588 0.0012647  0.00037941 0.00290881 0.00910586 0.00025294\n",
      " 0.0012647  0.00075882 0.00240293 0.00619704 0.00075882 0.00303529\n",
      " 0.00012647 0.00037941 0.00202352 0.00012647 0.00505881 0.00151764\n",
      " 0.00442646 0.00025294 0.00025294 0.00101176 0.00012647 0.00189705\n",
      " 0.01264702 0.00037941 0.00037941 0.00012647 0.00227646 0.00012647\n",
      " 0.00392058 0.00455293 0.00025294 0.00012647 0.00025294 0.00050588\n",
      " 0.00480587 0.00278234 0.00025294 0.00025294 0.00151764 0.00037941\n",
      " 0.00101176 0.0084735  0.00075882 0.00012647 0.01138232 0.00290881\n",
      " 0.00316176 0.00037941 0.00075882 0.00366764 0.01378525 0.00050588\n",
      " 0.00139117 0.00012647 0.00037941 0.00113823 0.00265587 0.00025294\n",
      " 0.00012647 0.00050588 0.00113823 0.00480587 0.00025294 0.00050588\n",
      " 0.00012647 0.00164411 0.00025294 0.00012647 0.00075882 0.00101176\n",
      " 0.00063235 0.00025294 0.00139117 0.00025294 0.00075882 0.00556469\n",
      " 0.00012647 0.00037941 0.00063235 0.00278234 0.00012647 0.00025294\n",
      " 0.00063235 0.00101176 0.00075882 0.00063235 0.00012647 0.00063235\n",
      " 0.00278234 0.00050588 0.00037941 0.0012647  0.00025294 0.00075882\n",
      " 0.00012647 0.00050588 0.00189705 0.00227646 0.00012647 0.00012647\n",
      " 0.00025294 0.00037941 0.00012647 0.00037941 0.00037941 0.00025294\n",
      " 0.00151764 0.00063235 0.00037941 0.00012647 0.00012647 0.00025294\n",
      " 0.00025294 0.00088529 0.00012647 0.00025294 0.00012647 0.00214999\n",
      " 0.00012647 0.00012647 0.00012647 0.00012647 0.00113823 0.00025294\n",
      " 0.00012647 0.00025294 0.00075882 0.00025294 0.00012647 0.00025294\n",
      " 0.00037941 0.00012647 0.00025294 0.00265587 0.00012647 0.00012647\n",
      " 0.00025294 0.00037941 0.00025294 0.00012647 0.00012647 0.00012647\n",
      " 0.00189705 0.00012647 0.00012647 0.00063235 0.00012647 0.00025294\n",
      " 0.00050588 0.00050588 0.00012647 0.00012647 0.00214999 0.00012647\n",
      " 0.00012647 0.00012647 0.00012647 0.00037941 0.00025294 0.00050588\n",
      " 0.00012647 0.00012647 0.00063235 0.00050588 0.00012647 0.00025294\n",
      " 0.00113823 0.00012647 0.00012647 0.00025294 0.00037941 0.00037941\n",
      " 0.00012647 0.00037941 0.00050588 0.00012647 0.00012647 0.00012647\n",
      " 0.00012647 0.00012647 0.00012647 0.00012647 0.00113823 0.00012647\n",
      " 0.00012647 0.00012647 0.00012647 0.00012647 0.00025294 0.00012647\n",
      " 0.00012647 0.00037941 0.00012647 0.00037941 0.00037941 0.00012647\n",
      " 0.00025294 0.00012647 0.00037941 0.00025294 0.00025294 0.00012647\n",
      " 0.00012647 0.00012647 0.00012647 0.00037941 0.00012647 0.00012647\n",
      " 0.00012647 0.00012647 0.00012647 0.00012647 0.00012647 0.00012647\n",
      " 0.00012647 0.00012647 0.00012647 0.00012647 0.00012647 0.00012647\n",
      " 0.00012647 0.00012647 0.00025294 0.00012647 0.00012647 0.00025294\n",
      " 0.00025294 0.00037941]\n"
     ]
    }
   ],
   "source": [
    "print(prop)"
   ]
  },
  {
   "cell_type": "markdown",
   "id": "47a63cc1",
   "metadata": {},
   "source": [
    "#### 3. Plot Histogram/Bar for No.2 Result"
   ]
  },
  {
   "cell_type": "code",
   "execution_count": 22,
   "id": "4a4918e8",
   "metadata": {},
   "outputs": [
    {
     "data": {
      "image/png": "[encoded data removed]",
      "text/plain": [
       "<Figure size 3600x3600 with 1 Axes>"
      ]
     },
     "metadata": {
      "needs_background": "light"
     },
     "output_type": "display_data"
    }
   ],
   "source": [
    "plt.figure(figsize =(50, 50))\n",
    "plt.bar(val, prop)\n",
    "plt.ylabel(\"Probability\")\n",
    "plt.xlabel(\"Outcome\")\n",
    "plt.show()"
   ]
  },
  {
   "cell_type": "markdown",
   "id": "2e2c128d",
   "metadata": {},
   "source": [
    "#### 4. Calculated PDF (probability density function) for Continuous random variables (only 1 variable)"
   ]
  },
  {
   "cell_type": "code",
   "execution_count": 23,
   "id": "f904ca34",
   "metadata": {},
   "outputs": [],
   "source": [
    "continous_var = dataset.iloc[:, [6]]"
   ]
  },
  {
   "cell_type": "code",
   "execution_count": 24,
   "id": "a17a8441",
   "metadata": {},
   "outputs": [
    {
     "name": "stdout",
     "output_type": "stream",
     "text": [
      "      latitude\n",
      "0      1.44255\n",
      "1      1.33235\n",
      "2      1.44246\n",
      "3      1.34541\n",
      "4      1.34567\n",
      "...        ...\n",
      "7902   1.27973\n",
      "7903   1.29269\n",
      "7904   1.31286\n",
      "7905   1.29543\n",
      "7906   1.29672\n",
      "\n",
      "[7907 rows x 1 columns]\n"
     ]
    }
   ],
   "source": [
    "print(continous_var)"
   ]
  },
  {
   "cell_type": "code",
   "execution_count": 25,
   "id": "4cf33d68",
   "metadata": {},
   "outputs": [],
   "source": [
    "from numpy import mean\n",
    "from numpy import std\n",
    "from scipy.stats import norm"
   ]
  },
  {
   "cell_type": "code",
   "execution_count": 26,
   "id": "86262704",
   "metadata": {},
   "outputs": [
    {
     "name": "stdout",
     "output_type": "stream",
     "text": [
      "Mean=1.314, Standard Deviation = 0.031\n"
     ]
    }
   ],
   "source": [
    "sample_mean = mean(continous_var)\n",
    "sample_std = std(continous_var)\n",
    "print('Mean=%.3f, Standard Deviation = %.3f' % (sample_mean, sample_std))"
   ]
  },
  {
   "cell_type": "code",
   "execution_count": 27,
   "id": "e183b16f",
   "metadata": {},
   "outputs": [],
   "source": [
    "dist = norm(sample_mean, sample_std)"
   ]
  },
  {
   "cell_type": "markdown",
   "id": "daef6142",
   "metadata": {},
   "source": [
    "##### Values Range\n",
    "Latitude (1-3) . Longitude (103-106)"
   ]
  },
  {
   "cell_type": "code",
   "execution_count": 28,
   "id": "244d2fb9",
   "metadata": {},
   "outputs": [],
   "source": [
    "values = [value for value in range(1,3)]\n",
    "probabilities = [dist.pdf(value) for value in values]"
   ]
  },
  {
   "cell_type": "markdown",
   "id": "b0d57e50",
   "metadata": {},
   "source": [
    "#### 5. Plot Histogram for No.4 Result"
   ]
  },
  {
   "cell_type": "code",
   "execution_count": 29,
   "id": "abe1355f",
   "metadata": {},
   "outputs": [
    {
     "data": {
      "image/png": "[encoded data removed]",
      "text/plain": [
       "<Figure size 432x288 with 1 Axes>"
      ]
     },
     "metadata": {
      "needs_background": "light"
     },
     "output_type": "display_data"
    }
   ],
   "source": [
    "plt.hist(continous_var, bins = 50, density = True)\n",
    "plt.plot(values, probabilities)\n",
    "plt.show()"
   ]
  },
  {
   "cell_type": "markdown",
   "id": "af407b8b",
   "metadata": {},
   "source": [
    "### End of Code"
   ]
  }
 ],
 "metadata": {
  "kernelspec": {
   "display_name": "Python 3 (ipykernel)",
   "language": "python",
   "name": "python3"
  },
  "language_info": {
   "codemirror_mode": {
    "name": "ipython",
    "version": 3
   },
   "file_extension": ".py",
   "mimetype": "text/x-python",
   "name": "python",
   "nbconvert_exporter": "python",
   "pygments_lexer": "ipython3",
   "version": "3.9.7"
  }
 },
 "nbformat": 4,
 "nbformat_minor": 5
}
